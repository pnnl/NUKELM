{
 "cells": [
  {
   "cell_type": "markdown",
   "id": "5d561fd0",
   "metadata": {},
   "source": [
    "# Disclaimer\n",
    "This material was prepared as an account of work sponsored by an agency of the United States Government.  Neither the United States Government nor the United States Department of Energy, nor Battelle, nor any of their employees, nor any jurisdiction or organization that has cooperated in the development of these materials, makes any warranty, express or implied, or assumes any legal liability or responsibility for the accuracy, completeness, or usefulness or any information, apparatus, product, software, or process disclosed, or represents that its use would not infringe privately owned rights. Reference herein to any specific commercial product, process, or service by trade name, trademark, manufacturer, or otherwise does not necessarily constitute or imply its endorsement, recommendation, or favoring by the United States Government or any agency thereof, or Battelle Memorial Institute. The views and opinions of authors expressed herein do not necessarily state or reflect those of the United States Government or any agency thereof.\n",
    "\n",
    "PACIFIC NORTHWEST NATIONAL LABORATORY operated by BATTELLE for the UNITED STATES DEPARTMENT OF ENERGY under Contract DE-AC05-76RL01830."
   ]
  },
  {
   "cell_type": "markdown",
   "id": "d3cf9b62",
   "metadata": {},
   "source": [
    "# Step-by-Step Application of NukeLM Classifier to CSV of Documents"
   ]
  },
  {
   "cell_type": "markdown",
   "id": "dd448729",
   "metadata": {},
   "source": [
    "Import needed packages and define project directory root"
   ]
  },
  {
   "cell_type": "code",
   "execution_count": null,
   "id": "244d93c9",
   "metadata": {},
   "outputs": [],
   "source": [
    "from pathlib import Path\n",
    "\n",
    "import torch\n",
    "import transformers\n",
    "from datasets import load_dataset\n",
    "\n",
    "from nukelm.analyze.serve import serve_documents\n",
    "\n",
    "\n",
    "project_dir = Path.cwd().parent"
   ]
  },
  {
   "cell_type": "markdown",
   "id": "8bc7a304",
   "metadata": {},
   "source": [
    "Parameters for serving the model"
   ]
  },
  {
   "cell_type": "code",
   "execution_count": null,
   "id": "a564830b",
   "metadata": {},
   "outputs": [],
   "source": [
    "model_path_or_name = str(project_dir / \"data\" / \"06_models\" / \"Binary Classification\")\n",
    "tokenizer_path_or_name = \"roberta-large\"\n",
    "\n",
    "input_path = str(project_dir / \"data\" / \"01_raw\" / \"OSTI\" / \"binary_label_test_filtered_trimmed_1000.csv\")\n",
    "\n",
    "use_cuda = True\n",
    "batch_size = 4\n",
    "\n",
    "output_path = str(project_dir / \"data\" / \"07_model_output\" / \"nukelm-output.csv\")"
   ]
  },
  {
   "cell_type": "markdown",
   "id": "84e68247",
   "metadata": {},
   "source": [
    "Load the model into memory, and optionally onto the GPU"
   ]
  },
  {
   "cell_type": "code",
   "execution_count": null,
   "id": "a7ffe211",
   "metadata": {},
   "outputs": [],
   "source": [
    "config = transformers.AutoConfig.from_pretrained(model_path_or_name)\n",
    "model = transformers.AutoModelForSequenceClassification.from_pretrained(model_path_or_name, config=config)\n",
    "if tokenizer_path_or_name is None:\n",
    "    tokenizer_path_or_name = model_path_or_name\n",
    "tokenizer = transformers.AutoTokenizer.from_pretrained(tokenizer_path_or_name)\n",
    "\n",
    "try:\n",
    "    category_labels = [config.id2label[i] for i in range(len(config.id2label))]\n",
    "except AttributeError:\n",
    "    category_labels = None  # type: ignore\n",
    "\n",
    "if use_cuda and torch.cuda.is_available():\n",
    "    model.cuda()"
   ]
  },
  {
   "cell_type": "markdown",
   "id": "8633179f",
   "metadata": {},
   "source": [
    "Load the dataset from CSV"
   ]
  },
  {
   "cell_type": "code",
   "execution_count": null,
   "id": "829e1ee2",
   "metadata": {},
   "outputs": [],
   "source": [
    "dataset = load_dataset(\"csv\", data_files=input_path)[\"train\"]  # datasets puts a single data_files in \"train\"\n",
    "assert \"text\" in dataset.column_names"
   ]
  },
  {
   "cell_type": "markdown",
   "id": "f610b05c",
   "metadata": {},
   "source": [
    "Apply the model to the \"text\" column of the dataset"
   ]
  },
  {
   "cell_type": "code",
   "execution_count": null,
   "id": "7716233b",
   "metadata": {},
   "outputs": [],
   "source": [
    "def _serve_documents(examples):\n",
    "    \"\"\"Factory for `serve_documents` for use with `dataset.map`.\"\"\"\n",
    "    return serve_documents(\n",
    "        examples[\"text\"],\n",
    "        model=model,\n",
    "        tokenizer=tokenizer,\n",
    "        pool_strategies=[\"CLS\", \"MAX\", \"MEAN\"],\n",
    "        embed=True,\n",
    "        classify=True,\n",
    "        category_labels=category_labels,\n",
    "        use_cuda=use_cuda and torch.cuda.is_available(),\n",
    "    )\n",
    "\n",
    "\n",
    "dataset = dataset.map(\n",
    "    _serve_documents,\n",
    "    batched=True,\n",
    "    batch_size=batch_size,\n",
    ")"
   ]
  },
  {
   "cell_type": "markdown",
   "id": "29d6980b",
   "metadata": {},
   "source": [
    "Inspect the columns of the output"
   ]
  },
  {
   "cell_type": "code",
   "execution_count": null,
   "id": "5e5b2188",
   "metadata": {},
   "outputs": [],
   "source": [
    "dataset"
   ]
  },
  {
   "cell_type": "markdown",
   "id": "51991dd4",
   "metadata": {},
   "source": [
    "Inspect a single example of the output"
   ]
  },
  {
   "cell_type": "code",
   "execution_count": null,
   "id": "f35c614c",
   "metadata": {},
   "outputs": [],
   "source": [
    "dataset[0]"
   ]
  },
  {
   "cell_type": "markdown",
   "id": "1467f075",
   "metadata": {},
   "source": [
    "Save the output to a CSV"
   ]
  },
  {
   "cell_type": "code",
   "execution_count": null,
   "id": "f37b535e",
   "metadata": {},
   "outputs": [],
   "source": [
    "dataset.remove_columns([\"CLS\", \"MAX\", \"MEAN\"]).to_csv(output_path)"
   ]
  },
  {
   "cell_type": "code",
   "execution_count": null,
   "id": "165bf3f1",
   "metadata": {},
   "outputs": [],
   "source": []
  }
 ],
 "metadata": {
  "kernelspec": {
   "display_name": "Python 3 (ipykernel)",
   "language": "python",
   "name": "python3"
  },
  "language_info": {
   "codemirror_mode": {
    "name": "ipython",
    "version": 3
   },
   "file_extension": ".py",
   "mimetype": "text/x-python",
   "name": "python",
   "nbconvert_exporter": "python",
   "pygments_lexer": "ipython3",
   "version": "3.8.17"
  }
 },
 "nbformat": 4,
 "nbformat_minor": 5
}
