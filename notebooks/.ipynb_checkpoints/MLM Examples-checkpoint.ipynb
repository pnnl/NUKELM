{
 "cells": [
  {
   "cell_type": "markdown",
   "metadata": {},
   "source": [
    "# Disclaimer\n",
    "This material was prepared as an account of work sponsored by an agency of the United States Government.  Neither the United States Government nor the United States Department of Energy, nor Battelle, nor any of their employees, nor any jurisdiction or organization that has cooperated in the development of these materials, makes any warranty, express or implied, or assumes any legal liability or responsibility for the accuracy, completeness, or usefulness or any information, apparatus, product, software, or process disclosed, or represents that its use would not infringe privately owned rights. Reference herein to any specific commercial product, process, or service by trade name, trademark, manufacturer, or otherwise does not necessarily constitute or imply its endorsement, recommendation, or favoring by the United States Government or any agency thereof, or Battelle Memorial Institute. The views and opinions of authors expressed herein do not necessarily state or reflect those of the United States Government or any agency thereof.\n",
    "\n",
    "PACIFIC NORTHWEST NATIONAL LABORATORY operated by BATTELLE for the UNITED STATES DEPARTMENT OF ENERGY under Contract DE-AC05-76RL01830."
   ]
  },
  {
   "cell_type": "markdown",
   "metadata": {},
   "source": [
    "# Example of masked-language modeling task\n",
    "\n",
    "Preparatory steps:\n",
    "1. Save a serialized model to the \"data/06_models\" directory. Here, we use SciBERT with continued pre-training on OSTI.\n",
    "2. Update the tokenizer name, if necessary."
   ]
  },
  {
   "cell_type": "code",
   "execution_count": 1,
   "metadata": {},
   "outputs": [],
   "source": [
    "from pathlib import Path\n",
    "\n",
    "from transformers import AutoConfig, AutoModelForMaskedLM, AutoTokenizer, FillMaskPipeline\n",
    "\n",
    "\n",
    "project_dir = Path.cwd().parent"
   ]
  },
  {
   "cell_type": "code",
   "execution_count": 2,
   "metadata": {},
   "outputs": [],
   "source": [
    "model_path = str(project_dir / \"data\" / \"06_models\" / \"MLM\")\n",
    "tokenizer_name = \"roberta-large\""
   ]
  },
  {
   "cell_type": "code",
   "execution_count": 3,
   "metadata": {},
   "outputs": [],
   "source": [
    "config = AutoConfig.from_pretrained(model_path)\n",
    "tokenizer = AutoTokenizer.from_pretrained(tokenizer_name, config=config)\n",
    "model = AutoModelForMaskedLM.from_pretrained(model_path, config=config)\n",
    "pipe = FillMaskPipeline(model=model, tokenizer=tokenizer)"
   ]
  },
  {
   "cell_type": "code",
   "execution_count": 4,
   "metadata": {},
   "outputs": [
    {
     "data": {
      "text/plain": [
       "[(' radiation', 0.73249751329422),\n",
       " (' diffusion', 0.04114300757646561),\n",
       " (' expansion', 0.03969731554389),\n",
       " (' absorption', 0.023311933502554893),\n",
       " (' transport', 0.013942884281277657)]"
      ]
     },
     "execution_count": 4,
     "metadata": {},
     "output_type": "execute_result"
    }
   ],
   "source": [
    "sentence = \"These calculations are based on a description of the stagnation phase where the rate of change of energy in the hot spot is determined by the competition of the energy losses due to thermal conduction and <mask> with the heating due to compressional work and alpha particle energy deposition.\"  # noqa: E501\n",
    "\n",
    "result = pipe(sentence.replace(\"<mask>\", pipe.tokenizer.mask_token))\n",
    "\n",
    "[(r[\"token_str\"], r[\"score\"]) for r in result]"
   ]
  },
  {
   "cell_type": "code",
   "execution_count": 5,
   "metadata": {},
   "outputs": [
    {
     "data": {
      "text/plain": [
       "[(' water', 0.9963577389717102),\n",
       " (' metals', 0.000989285297691822),\n",
       " (' oil', 0.0007444166694767773),\n",
       " ('water', 0.0004419111937750131),\n",
       " (' metal', 0.00038663018494844437)]"
      ]
     },
     "execution_count": 5,
     "metadata": {},
     "output_type": "execute_result"
    }
   ],
   "source": [
    "sentence = \"The use of heavy <mask> as the moderator is the key to the PHWR system, enabling the use of natural uranium as the fuel (in the form of ceramic UO2), which means that it can be operated without expensive uranium enrichment facilities.\"  # noqa: E501\n",
    "\n",
    "result = pipe(sentence.replace(\"<mask>\", pipe.tokenizer.mask_token))\n",
    "\n",
    "[(r[\"token_str\"], r[\"score\"]) for r in result]"
   ]
  },
  {
   "cell_type": "code",
   "execution_count": null,
   "metadata": {},
   "outputs": [],
   "source": []
  }
 ],
 "metadata": {
  "kernelspec": {
   "display_name": "Python 3",
   "language": "python",
   "name": "python3"
  },
  "language_info": {
   "codemirror_mode": {
    "name": "ipython",
    "version": 3
   },
   "file_extension": ".py",
   "mimetype": "text/x-python",
   "name": "python",
   "nbconvert_exporter": "python",
   "pygments_lexer": "ipython3",
   "version": "3.7.4"
  }
 },
 "nbformat": 4,
 "nbformat_minor": 4
}
